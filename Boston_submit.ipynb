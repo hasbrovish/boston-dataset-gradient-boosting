{
 "cells": [
  {
   "cell_type": "code",
   "execution_count": 36,
   "metadata": {
    "collapsed": true
   },
   "outputs": [],
   "source": [
    "import numpy as np\n",
    "from sklearn import preprocessing\n",
    "import pandas as pd"
   ]
  },
  {
   "cell_type": "code",
   "execution_count": 37,
   "metadata": {},
   "outputs": [],
   "source": [
    "data = np.genfromtxt(r'C:\\Users\\JAYANTI VISHNOI\\Desktop\\ml\\0000000000002417_training_boston_x_y_train.csv', delimiter=',')\n",
    "boston = data\n",
    "data=np.insert(data,13,1,axis=1) #inserting a column with 1 at a index before 13 ..0 se start h idx\n",
    "x_train=data[:,:-1]\n",
    "y_train=data[:,-1]\n",
    "#data[:,:-1] =  (data[:,:-1] - data[:,:-1].mean())/data[:,:-1].std()\n",
    "def step_gradient(points, learning_rate, m):\n",
    "    M = len(points)\n",
    "    temp=np.zeros((14,1))\n",
    "    temp=np.asmatrix(temp)\n",
    "    for i in range(M):\n",
    "        x = np.asmatrix(points[i, 0:-1]) \n",
    "        y = np.asmatrix(points[i, -1])\n",
    "        #print(x.shape,y.shape,m.shape)\n",
    "        for j in range(len(m)):\n",
    "            #print(temp[j].shape)\n",
    "            #print(((-2/M)* (y - (x * m) )*x[i,j]).shape)\n",
    "            temp[j]=temp[j] + (-2/M)* (y - (x * m) )*x[0,j] #x vector he e row or 13 columns \n",
    "            \n",
    "    new_m = m - learning_rate*temp\n",
    "    \n",
    "    return new_m"
   ]
  },
  {
   "cell_type": "code",
   "execution_count": 38,
   "metadata": {
    "collapsed": true
   },
   "outputs": [],
   "source": [
    "def gd(points, learning_rate, num_iterations):\n",
    "    m = np.zeros((14,1))\n",
    "    #print(m.shape)\n",
    "    m=np.asmatrix(m)\n",
    "    for i in range(num_iterations):\n",
    "        m = step_gradient(points, learning_rate, m)\n",
    "        #print(i, \" Cost: \", cost(points, m))\n",
    "    return m"
   ]
  },
  {
   "cell_type": "code",
   "execution_count": 39,
   "metadata": {
    "collapsed": true
   },
   "outputs": [],
   "source": [
    "def cost(points, m):\n",
    "    total_cost = 0\n",
    "    M = len(points)\n",
    "    for i in range(M):\n",
    "        x = np.asmatrix(points[i, 0:-1])\n",
    "        y = np.asmatrix(points[i, -1])\n",
    "        #print(((y - x*m)**2).shape)\n",
    "        total_cost+=((y - x*m)**2)\n",
    "    return total_cost*(1/M)"
   ]
  },
  {
   "cell_type": "code",
   "execution_count": 40,
   "metadata": {},
   "outputs": [
    {
     "name": "stdout",
     "output_type": "stream",
     "text": [
      "[[ -0.61894582]\n",
      " [  0.43267629]\n",
      " [ -0.48307246]\n",
      " [  0.98877609]\n",
      " [ -0.40687854]\n",
      " [  2.65204787]\n",
      " [ -0.04440778]\n",
      " [ -0.29686588]\n",
      " [  0.13340352]\n",
      " [ -0.29350722]\n",
      " [ -1.25691435]\n",
      " [  0.57713589]\n",
      " [ -2.19823233]\n",
      " [ 12.47539979]]\n"
     ]
    }
   ],
   "source": [
    "learning_rate = 0.001\n",
    "num_iterations = 400\n",
    "m = gd(data, learning_rate, num_iterations)\n",
    "print(m)"
   ]
  },
  {
   "cell_type": "code",
   "execution_count": 41,
   "metadata": {},
   "outputs": [
    {
     "name": "stdout",
     "output_type": "stream",
     "text": [
      "50421.9827661 33326.5458047\n",
      "Train data accuracy: -0.512967562301\n"
     ]
    }
   ],
   "source": [
    "def score(y,y_pred):\n",
    "    a = ((y - y_pred)**2).sum()\n",
    "    b = ((y - y.mean())**2).sum()\n",
    "    print(a,b)\n",
    "    return 1 - a/b\n",
    "#x_train=data[:,:-1]\n",
    "#y_train=data[:,-1]\n",
    "y_pred_train = np.array(np.asmatrix(x_train)*m).reshape(1,-1)\n",
    "#print((y_pred_train.shape),(x_train.shape),(y_train.shape))\n",
    "accuracy=score(y_train,y_pred_train)\n",
    "print(\"Train data accuracy:\",accuracy)"
   ]
  },
  {
   "cell_type": "code",
   "execution_count": 42,
   "metadata": {},
   "outputs": [
    {
     "data": {
      "text/plain": [
       "matrix([[  1.09071798],\n",
       "        [ 17.47302037],\n",
       "        [ 11.68965335],\n",
       "        [ 14.72054803],\n",
       "        [ 11.05484279],\n",
       "        [ -1.54387434],\n",
       "        [ 16.81036113],\n",
       "        [ 13.36569287],\n",
       "        [  9.615515  ],\n",
       "        [ 12.36357492],\n",
       "        [ 14.38574284],\n",
       "        [  9.66833525],\n",
       "        [ 12.17196472],\n",
       "        [ 12.28724781],\n",
       "        [ 28.55641156],\n",
       "        [ 14.85728192],\n",
       "        [ 13.86638981],\n",
       "        [ 15.54419336],\n",
       "        [ 12.40378987],\n",
       "        [ 18.74407392],\n",
       "        [ 12.79023217],\n",
       "        [ 12.19924137],\n",
       "        [ 18.75546235],\n",
       "        [ 23.15262249],\n",
       "        [ 21.7765176 ],\n",
       "        [  5.03125635],\n",
       "        [ 11.17674134],\n",
       "        [ 19.51469268],\n",
       "        [ 14.77942973],\n",
       "        [ 21.15298755],\n",
       "        [  9.44945697],\n",
       "        [ 14.39062201],\n",
       "        [ 13.24768464],\n",
       "        [ 15.06524149],\n",
       "        [  5.91876548],\n",
       "        [ 16.1009736 ],\n",
       "        [ 15.4096712 ],\n",
       "        [ 10.6556459 ],\n",
       "        [ 14.77070028],\n",
       "        [  2.43560853],\n",
       "        [ -2.33624757],\n",
       "        [ 17.16232688],\n",
       "        [ 19.03823853],\n",
       "        [ 10.60045864],\n",
       "        [  9.52045981],\n",
       "        [ -4.36916168],\n",
       "        [ 25.46525262],\n",
       "        [ 14.83159364],\n",
       "        [ 21.41787292],\n",
       "        [  7.89626079],\n",
       "        [  6.92842059],\n",
       "        [ 26.26546202],\n",
       "        [  8.39641319],\n",
       "        [ 10.2724817 ],\n",
       "        [  8.70866552],\n",
       "        [ 11.95926546],\n",
       "        [  9.79411067],\n",
       "        [ 12.3841005 ],\n",
       "        [  6.83974713],\n",
       "        [  7.65207207],\n",
       "        [  4.60164945],\n",
       "        [ 16.5955806 ],\n",
       "        [ 13.80003141],\n",
       "        [ 14.86180085],\n",
       "        [  6.43364725],\n",
       "        [  5.07545696],\n",
       "        [ 20.97806227],\n",
       "        [  7.71988202],\n",
       "        [ 15.90726967],\n",
       "        [ 11.10017981],\n",
       "        [ 16.79466936],\n",
       "        [ 13.8650962 ],\n",
       "        [  9.03231235],\n",
       "        [ -2.19751843],\n",
       "        [ 23.92264536],\n",
       "        [ 14.72200011],\n",
       "        [ 17.0760194 ],\n",
       "        [ 15.31246701],\n",
       "        [  6.30478286],\n",
       "        [ 22.26143977],\n",
       "        [  9.17713065],\n",
       "        [ 12.32478459],\n",
       "        [ 13.20230528],\n",
       "        [  4.41493441],\n",
       "        [  7.95051235],\n",
       "        [ 18.94923165],\n",
       "        [ 17.48684532],\n",
       "        [ -1.50109441],\n",
       "        [  9.80212444],\n",
       "        [  8.79000634],\n",
       "        [ 12.05566816],\n",
       "        [ 10.705948  ],\n",
       "        [ 10.9225693 ],\n",
       "        [  5.21946044],\n",
       "        [ 10.84373908],\n",
       "        [ 15.32444006],\n",
       "        [ 26.52266125],\n",
       "        [  8.51470366],\n",
       "        [ 21.11422592],\n",
       "        [ 16.61626966],\n",
       "        [ 14.53461429],\n",
       "        [ 13.46457674],\n",
       "        [ 15.79552783],\n",
       "        [ 17.72036269],\n",
       "        [  7.67517813],\n",
       "        [ 14.19215469],\n",
       "        [ 12.72246688],\n",
       "        [ 25.01623675],\n",
       "        [ 13.92492954],\n",
       "        [  6.45729426],\n",
       "        [ 18.17661577],\n",
       "        [ -6.54141137],\n",
       "        [  6.16444357],\n",
       "        [  4.26761868],\n",
       "        [ 22.45700313],\n",
       "        [ 10.4878414 ],\n",
       "        [ 12.79950761],\n",
       "        [ 14.14326379],\n",
       "        [ 12.9276482 ],\n",
       "        [  9.20652042],\n",
       "        [  7.20396106],\n",
       "        [ 20.55068109],\n",
       "        [ 12.091325  ],\n",
       "        [ 13.72308216],\n",
       "        [ 13.84779411],\n",
       "        [ 10.46752973],\n",
       "        [  6.14629933]])"
      ]
     },
     "execution_count": 42,
     "metadata": {},
     "output_type": "execute_result"
    }
   ],
   "source": [
    "x_test = np.genfromtxt(r'C:\\Users\\JAYANTI VISHNOI\\Desktop\\ml\\0000000000002417_test_boston_x_test.csv', delimiter=',')\n",
    "x_test = np.insert(x_test,13,1,axis=1)\n",
    "x_test = np.asmatrix(x_test)\n",
    "y_pred = x_test*m\n"
   ]
  },
  {
   "cell_type": "code",
   "execution_count": 43,
   "metadata": {
    "collapsed": true
   },
   "outputs": [],
   "source": [
    "np.savetxt('Prediction_Boston.csv',y_pred,fmt='%.8f')"
   ]
  },
  {
   "cell_type": "code",
   "execution_count": 44,
   "metadata": {
    "collapsed": true
   },
   "outputs": [],
   "source": [
    "from sklearn.ensemble import GradientBoostingRegressor"
   ]
  },
  {
   "cell_type": "code",
   "execution_count": 45,
   "metadata": {},
   "outputs": [
    {
     "name": "stderr",
     "output_type": "stream",
     "text": [
      "C:\\Users\\JAYANTI VISHNOI\\Anaconda3\\lib\\site-packages\\sklearn\\utils\\validation.py:578: DataConversionWarning: A column-vector y was passed when a 1d array was expected. Please change the shape of y to (n_samples, ), for example using ravel().\n",
      "  y = column_or_1d(y, warn=True)\n"
     ]
    },
    {
     "data": {
      "text/plain": [
       "array([ 14.17600881,  27.58418328,  15.18682301,  21.55387841,\n",
       "        21.56366126,  11.9420963 ,  29.96403668,  25.82205818,\n",
       "        17.92170635,  22.01385701,  24.79432033,  16.5048471 ,\n",
       "        19.06332309,  20.52529552,  52.14849999,  20.28228231,\n",
       "        23.91596129,  21.98985248,  18.20419329,  30.45287398,\n",
       "        20.64864072,  21.66495169,  36.68436626,  31.05350269,\n",
       "        33.36783678,  16.62270166,  21.34240036,  31.16025573,\n",
       "        20.03080524,  28.63142168,  17.53456556,  24.79959218,\n",
       "        20.09617376,  21.98408037,   8.07574981,  23.91398302,\n",
       "        23.79396158,  20.73239353,  23.45541503,   8.12525756,\n",
       "        15.50233542,  22.82592272,  23.88475556,  19.76527712,\n",
       "        22.67265505,  10.35636721,  43.37750635,  24.25639248,\n",
       "        35.37464892,  13.37948413,  12.90361221,  46.08261297,\n",
       "        13.44583998,  20.17677993,  16.07856278,  19.60614275,\n",
       "        18.66406911,  22.46328815,  13.36310084,  15.60742653,\n",
       "        12.52110693,  26.77516912,  22.35119237,  23.81850799,\n",
       "        14.29454662,  15.69693501,  34.2731692 ,  10.47439238,\n",
       "        20.8614117 ,  20.53256246,  26.30551621,  20.96947512,\n",
       "        16.65782125,   7.85309492,  39.61207972,  22.86416265,\n",
       "        25.42720492,  25.28268814,  10.99591796,  31.77924425,\n",
       "        21.38283819,  21.34108854,  20.58425069,  17.93507479,\n",
       "        16.43664894,  36.60331878,  25.91821055,   9.94457077,\n",
       "        21.63062357,  16.07833725,  21.60034661,  19.44210061,\n",
       "        17.76395206,   8.11428435,  20.99239708,  22.7171757 ,\n",
       "        47.81717261,  19.05171191,  36.27325798,  23.16005758,\n",
       "        23.61305037,  20.60510259,  20.70730419,  25.65710995,\n",
       "        12.61669866,  25.42634798,  20.70176597,  45.49256588,\n",
       "        22.79535392,  12.42556077,  21.78276408,  19.25763809,\n",
       "        18.0086456 ,  17.73438207,  43.37838753,  16.83970865,\n",
       "        20.6015788 ,  26.06577797,  20.90086482,  16.99455127,\n",
       "        12.25491412,  33.56798253,  21.29271665,  21.66125187,\n",
       "        21.91899002,  20.45341403,  16.30899432])"
      ]
     },
     "execution_count": 45,
     "metadata": {},
     "output_type": "execute_result"
    }
   ],
   "source": [
    "clf=GradientBoostingRegressor(n_estimators=20000)\n",
    "x_test = np.genfromtxt(r'C:\\Users\\JAYANTI VISHNOI\\Desktop\\ml\\0000000000002417_test_boston_x_test.csv', delimiter=',')\n",
    "y_train=y_train.reshape(-1,1)\n",
    "x_train=boston[:,:-1]\n",
    "clf.fit(x_train,y_train)\n",
    "y_pred=clf.predict(x_test)\n"
   ]
  },
  {
   "cell_type": "code",
   "execution_count": 46,
   "metadata": {
    "collapsed": true
   },
   "outputs": [],
   "source": [
    "np.savetxt('Prediction_Boston.csv',y_pred,fmt='%0.50f')"
   ]
  },
  {
   "cell_type": "code",
   "execution_count": null,
   "metadata": {},
   "outputs": [],
   "source": []
  },
  {
   "cell_type": "code",
   "execution_count": null,
   "metadata": {
    "collapsed": true
   },
   "outputs": [],
   "source": []
  }
 ],
 "metadata": {
  "kernelspec": {
   "display_name": "Python 3",
   "language": "python",
   "name": "python3"
  },
  "language_info": {
   "codemirror_mode": {
    "name": "ipython",
    "version": 3
   },
   "file_extension": ".py",
   "mimetype": "text/x-python",
   "name": "python",
   "nbconvert_exporter": "python",
   "pygments_lexer": "ipython3",
   "version": "3.6.3"
  }
 },
 "nbformat": 4,
 "nbformat_minor": 2
}
